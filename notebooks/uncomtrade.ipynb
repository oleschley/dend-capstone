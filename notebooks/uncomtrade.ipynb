{
 "cells": [
  {
   "cell_type": "code",
   "execution_count": null,
   "metadata": {},
   "outputs": [],
   "source": [
    "import time\n",
    "import json\n",
    "import pickle\n",
    "import itertools\n",
    "import requests\n",
    "import pandas as pd\n",
    "import altair as alt"
   ]
  },
  {
   "cell_type": "code",
   "execution_count": null,
   "metadata": {},
   "outputs": [],
   "source": [
    "# URLs for a list of reporter countries, partner countries as well as the API itself\n",
    "reporter_areas = 'https://comtrade.un.org/data/cache/reporterAreas.json'\n",
    "partner_areas = 'https://comtrade.un.org/data/cache/partnerAreas.json'\n",
    "commodity_classifications = 'https://comtrade.un.org/Data/cache/classificationHS.json'\n",
    "api = 'https://comtrade.un.org/api/get'"
   ]
  },
  {
   "cell_type": "code",
   "execution_count": null,
   "metadata": {},
   "outputs": [],
   "source": [
    "# Reporter areas mapping\n",
    "r = requests.get(reporter_areas)\n",
    "reporter_areas = json.loads(r.text)['results'][1:]"
   ]
  },
  {
   "cell_type": "code",
   "execution_count": null,
   "metadata": {},
   "outputs": [],
   "source": [
    "# Partner areas mapping\n",
    "r = requests.get(partner_areas)\n",
    "partner_areas = json.loads(r.text)['results'][1:]"
   ]
  },
  {
   "cell_type": "code",
   "execution_count": null,
   "metadata": {},
   "outputs": [],
   "source": [
    "# Commodity mapping\n",
    "r = requests.get(commodity_classifications)\n",
    "commodity_classifications = json.loads(r.text)['results'][1:]"
   ]
  },
  {
   "cell_type": "code",
   "execution_count": null,
   "metadata": {},
   "outputs": [],
   "source": [
    "# List for storing responses\n",
    "res = []\n",
    "\n",
    "# Months to iterate over\n",
    "yrs = range(2018, 2019)\n",
    "mos = range(1, 13)\n",
    "months = [int(f'{str(c[0])}{str(c[1]).zfill(2)}') for c in itertools.product(yrs, mos)]\n",
    "\n",
    "# Payload placeholder\n",
    "payload = {'max': 50000,\n",
    "           'type': 'C',\n",
    "           'freq': 'M',\n",
    "           'px': 'HS',\n",
    "           'ps': 201001,\n",
    "           'r': 'all',\n",
    "           'p': 0,\n",
    "           'rg': 'all',\n",
    "           'cc': 'ag4'}"
   ]
  },
  {
   "cell_type": "code",
   "execution_count": null,
   "metadata": {},
   "outputs": [],
   "source": [
    "for month in months:\n",
    "    payload['ps'] = month\n",
    "    for area in partner_areas:\n",
    "        print(f'{month}: {area[\"text\"]}')\n",
    "        time.sleep(1)\n",
    "        payload['p'] = area['id']\n",
    "        r = requests.get(api, params=payload)\n",
    "        res.append(r)"
   ]
  },
  {
   "cell_type": "code",
   "execution_count": null,
   "metadata": {},
   "outputs": [],
   "source": [
    "with open('responses.pickle', 'wb') as f:\n",
    "    pickle.dump(res, f, pickle.HIGHEST_PROTOCOL)"
   ]
  },
  {
   "cell_type": "code",
   "execution_count": null,
   "metadata": {},
   "outputs": [],
   "source": []
  }
 ],
 "metadata": {
  "kernelspec": {
   "display_name": "Python 3",
   "language": "python",
   "name": "python3"
  },
  "language_info": {
   "codemirror_mode": {
    "name": "ipython",
    "version": 3
   },
   "file_extension": ".py",
   "mimetype": "text/x-python",
   "name": "python",
   "nbconvert_exporter": "python",
   "pygments_lexer": "ipython3",
   "version": "3.7.3"
  }
 },
 "nbformat": 4,
 "nbformat_minor": 4
}
