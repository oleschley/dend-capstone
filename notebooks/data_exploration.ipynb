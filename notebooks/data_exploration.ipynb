{
 "cells": [
  {
   "cell_type": "markdown",
   "metadata": {},
   "source": [
    "# Data Exploration\n",
    "\n",
    "This notebook provides an exploration of our two data sources."
   ]
  },
  {
   "cell_type": "code",
   "execution_count": 8,
   "metadata": {},
   "outputs": [],
   "source": [
    "# Core packages\n",
    "\n",
    "\n",
    "# External packages\n",
    "import numpy as np\n",
    "import pandas as pd"
   ]
  },
  {
   "cell_type": "markdown",
   "metadata": {},
   "source": [
    "## Data Cleaning\n",
    "Overall the dataset is fairly clean as the provider already performs various data cleaning operations to provide consistent trade data. There are 23,884 records in the `sitc_product_code` column with value `ZZ`. We will cast these as `np.nan` so that we can make the column numeric and save the data in `parquet` format to enable faster loading and reduce storage size from 1.8GB to 333MB."
   ]
  },
  {
   "cell_type": "code",
   "execution_count": 10,
   "metadata": {},
   "outputs": [],
   "source": [
    "df = pd.read_csv(filepath_or_buffer='/home/ols/Downloads/country_partner_sitcproduct2digit_year.tab',\n",
    "                 sep='\\t',\n",
    "                 dtype={\n",
    "                     'location_id': np.int64,\n",
    "                     'partner_id': np.int64,\n",
    "                     'product_id': np.int64,\n",
    "                     'year': np.int64,\n",
    "                     'export_value': np.int64,\n",
    "                     'import_value': np.int64,\n",
    "                     'sitc_eci': np.float64,\n",
    "                     'sitc_coi': np.float64,\n",
    "                     'location_code': object,\n",
    "                     'partner_code': object,\n",
    "                     'sitc_product_code': object\n",
    "})"
   ]
  },
  {
   "cell_type": "code",
   "execution_count": 26,
   "metadata": {},
   "outputs": [
    {
     "data": {
      "text/plain": [
       "array([33., 78., 74., 93.,  3., 66.,  4., 27., 52., 65., 69., 71., 72.,\n",
       "       77., 82., 84., 87., 89.,  9., 53., 62., 64., 67., 75.,  5., 85.,\n",
       "       11., 51., 76., 81.,  7., 55., 56., 59., 79., 54., 88., 26., 68.,\n",
       "       83., 58.,  1.,  2., 29., 42., 63., 34.,  8., nan,  0.,  6., 12.,\n",
       "       22., 23., 24., 28., 41., 43., 57., 61., 73., 94., 97., 21., 25.,\n",
       "       95., 35., 91., 32., 96.])"
      ]
     },
     "execution_count": 26,
     "metadata": {},
     "output_type": "execute_result"
    }
   ],
   "source": [
    "df['sitc_product_code'].unique()"
   ]
  },
  {
   "cell_type": "code",
   "execution_count": 25,
   "metadata": {},
   "outputs": [
    {
     "name": "stderr",
     "output_type": "stream",
     "text": [
      "/home/ols/.local/share/virtualenvs/capstone-TOW4gi5C/lib/python3.7/site-packages/pandas/core/ops/__init__.py:1115: FutureWarning: elementwise comparison failed; returning scalar instead, but in the future will perform elementwise comparison\n",
      "  result = method(y)\n"
     ]
    },
    {
     "data": {
      "text/plain": [
       "Series([], Name: sitc_product_code, dtype: float64)"
      ]
     },
     "execution_count": 25,
     "metadata": {},
     "output_type": "execute_result"
    }
   ],
   "source": [
    "df.loc[df['sitc_product_code'] == 'ZZ', 'sitc_product_code']"
   ]
  },
  {
   "cell_type": "code",
   "execution_count": 14,
   "metadata": {},
   "outputs": [],
   "source": [
    "df.loc[df['sitc_product_code'] == 'ZZ', 'sitc_product_code'] = np.nan"
   ]
  },
  {
   "cell_type": "code",
   "execution_count": 29,
   "metadata": {},
   "outputs": [
    {
     "data": {
      "text/plain": [
       "23884"
      ]
     },
     "execution_count": 29,
     "metadata": {},
     "output_type": "execute_result"
    }
   ],
   "source": [
    "df['sitc_product_code'].isna().sum()"
   ]
  },
  {
   "cell_type": "code",
   "execution_count": 22,
   "metadata": {},
   "outputs": [],
   "source": [
    "df['sitc_product_code'] = pd.to_numeric(df['sitc_product_code'])"
   ]
  },
  {
   "cell_type": "code",
   "execution_count": 23,
   "metadata": {},
   "outputs": [
    {
     "name": "stdout",
     "output_type": "stream",
     "text": [
      "<class 'pandas.core.frame.DataFrame'>\n",
      "RangeIndex: 29524294 entries, 0 to 29524293\n",
      "Data columns (total 11 columns):\n",
      "location_id          int64\n",
      "partner_id           int64\n",
      "product_id           int64\n",
      "year                 int64\n",
      "export_value         int64\n",
      "import_value         int64\n",
      "sitc_eci             float64\n",
      "sitc_coi             float64\n",
      "location_code        object\n",
      "partner_code         object\n",
      "sitc_product_code    float64\n",
      "dtypes: float64(3), int64(6), object(2)\n",
      "memory usage: 2.4+ GB\n"
     ]
    }
   ],
   "source": [
    "df.info()"
   ]
  },
  {
   "cell_type": "code",
   "execution_count": 24,
   "metadata": {},
   "outputs": [],
   "source": [
    "df.to_parquet('/home/ols/computers/dend/comtrade.parquet')"
   ]
  },
  {
   "cell_type": "code",
   "execution_count": null,
   "metadata": {},
   "outputs": [],
   "source": []
  },
  {
   "cell_type": "code",
   "execution_count": null,
   "metadata": {},
   "outputs": [],
   "source": []
  }
 ],
 "metadata": {
  "kernelspec": {
   "display_name": "capstone",
   "language": "python",
   "name": "capstone"
  },
  "language_info": {
   "codemirror_mode": {
    "name": "ipython",
    "version": 3
   },
   "file_extension": ".py",
   "mimetype": "text/x-python",
   "name": "python",
   "nbconvert_exporter": "python",
   "pygments_lexer": "ipython3",
   "version": "3.7.4"
  }
 },
 "nbformat": 4,
 "nbformat_minor": 4
}
