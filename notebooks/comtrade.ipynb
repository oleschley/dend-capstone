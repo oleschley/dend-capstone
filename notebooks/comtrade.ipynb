{
 "cells": [
  {
   "cell_type": "markdown",
   "metadata": {},
   "source": [
    "# Comtrade - Data Prep\n",
    "This notebook contains data preparation for UN Comtrade data from Harvard Dataverse. Objective is to generate a cleaned parquet file to store in our S3 analytics bucket.\n",
    "\n",
    "Overall the dataset is fairly clean as the provider already performs various data cleaning operations to provide consistent trade data. There are 23,884 records in the `sitc_product_code` column with value `ZZ`. We will cast these as `99` so that we can cast the column as `int` and save the data in `parquet` format to enable faster loading and reduce storage size from 1.9GB to 250MB."
   ]
  },
  {
   "cell_type": "code",
   "execution_count": 1,
   "metadata": {},
   "outputs": [],
   "source": [
    "import json\n",
    "import requests\n",
    "import numpy as np\n",
    "import pandas as pd"
   ]
  },
  {
   "cell_type": "code",
   "execution_count": 2,
   "metadata": {},
   "outputs": [],
   "source": [
    "path = '/path/to/data'"
   ]
  },
  {
   "cell_type": "code",
   "execution_count": 3,
   "metadata": {},
   "outputs": [],
   "source": [
    "# Read data as downloaded from source\n",
    "df = pd.read_csv(filepath_or_buffer=f'{path}/country_partner_sitcproduct2digit_year.tab',\n",
    "                 sep='\\t',\n",
    "                 dtype={\n",
    "                     'location_id': np.int64,\n",
    "                     'partner_id': np.int64,\n",
    "                     'product_id': np.int64,\n",
    "                     'year': np.int64,\n",
    "                     'export_value': np.int64,\n",
    "                     'import_value': np.int64,\n",
    "                     'sitc_eci': np.float64,\n",
    "                     'sitc_coi': np.float64,\n",
    "                     'location_code': object,\n",
    "                     'partner_code': object,\n",
    "                     'sitc_product_code': object\n",
    "})"
   ]
  },
  {
   "cell_type": "code",
   "execution_count": 4,
   "metadata": {},
   "outputs": [
    {
     "data": {
      "text/plain": [
       "array(['33', '78', '74', '93', '03', '66', '04', '27', '52', '65', '69',\n",
       "       '71', '72', '77', '82', '84', '87', '89', '09', '53', '62', '64',\n",
       "       '67', '75', '05', '85', '11', '51', '76', '81', '07', '55', '56',\n",
       "       '59', '79', '54', '88', '26', '68', '83', '58', '01', '02', '29',\n",
       "       '42', '63', '34', '08', 'ZZ', '00', '06', '12', '22', '23', '24',\n",
       "       '28', '41', '43', '57', '61', '73', '94', '97', '21', '25', '95',\n",
       "       '35', '91', '32', '96'], dtype=object)"
      ]
     },
     "execution_count": 4,
     "metadata": {},
     "output_type": "execute_result"
    }
   ],
   "source": [
    "# Identify unique product codes\n",
    "df['sitc_product_code'].unique()"
   ]
  },
  {
   "cell_type": "code",
   "execution_count": 5,
   "metadata": {},
   "outputs": [],
   "source": [
    "# Set code ZZ to np.nan\n",
    "df.loc[df['sitc_product_code'] == 'ZZ', 'sitc_product_code'] = '99'"
   ]
  },
  {
   "cell_type": "code",
   "execution_count": 6,
   "metadata": {},
   "outputs": [],
   "source": [
    "# Cast product codes as int\n",
    "df['sitc_product_code'] = df['sitc_product_code'].astype(int)"
   ]
  },
  {
   "cell_type": "code",
   "execution_count": 7,
   "metadata": {},
   "outputs": [],
   "source": [
    "# Drop columns calculated by Harvard Dataverse\n",
    "df = df.drop(['sitc_eci', 'sitc_coi'], axis=1)"
   ]
  },
  {
   "cell_type": "code",
   "execution_count": 8,
   "metadata": {},
   "outputs": [
    {
     "name": "stdout",
     "output_type": "stream",
     "text": [
      "<class 'pandas.core.frame.DataFrame'>\n",
      "RangeIndex: 29524294 entries, 0 to 29524293\n",
      "Data columns (total 9 columns):\n",
      "location_id          int64\n",
      "partner_id           int64\n",
      "product_id           int64\n",
      "year                 int64\n",
      "export_value         int64\n",
      "import_value         int64\n",
      "location_code        object\n",
      "partner_code         object\n",
      "sitc_product_code    int64\n",
      "dtypes: int64(7), object(2)\n",
      "memory usage: 2.0+ GB\n"
     ]
    }
   ],
   "source": [
    "df.info()"
   ]
  },
  {
   "cell_type": "code",
   "execution_count": 9,
   "metadata": {},
   "outputs": [
    {
     "data": {
      "text/html": [
       "<div>\n",
       "<style scoped>\n",
       "    .dataframe tbody tr th:only-of-type {\n",
       "        vertical-align: middle;\n",
       "    }\n",
       "\n",
       "    .dataframe tbody tr th {\n",
       "        vertical-align: top;\n",
       "    }\n",
       "\n",
       "    .dataframe thead th {\n",
       "        text-align: right;\n",
       "    }\n",
       "</style>\n",
       "<table border=\"1\" class=\"dataframe\">\n",
       "  <thead>\n",
       "    <tr style=\"text-align: right;\">\n",
       "      <th></th>\n",
       "      <th>location_id</th>\n",
       "      <th>partner_id</th>\n",
       "      <th>product_id</th>\n",
       "      <th>year</th>\n",
       "      <th>export_value</th>\n",
       "      <th>import_value</th>\n",
       "      <th>location_code</th>\n",
       "      <th>partner_code</th>\n",
       "      <th>sitc_product_code</th>\n",
       "    </tr>\n",
       "  </thead>\n",
       "  <tbody>\n",
       "    <tr>\n",
       "      <td>0</td>\n",
       "      <td>0</td>\n",
       "      <td>2</td>\n",
       "      <td>122</td>\n",
       "      <td>2010</td>\n",
       "      <td>52172104</td>\n",
       "      <td>0</td>\n",
       "      <td>ABW</td>\n",
       "      <td>AGO</td>\n",
       "      <td>33</td>\n",
       "    </tr>\n",
       "    <tr>\n",
       "      <td>1</td>\n",
       "      <td>1</td>\n",
       "      <td>2</td>\n",
       "      <td>122</td>\n",
       "      <td>2013</td>\n",
       "      <td>82953</td>\n",
       "      <td>0</td>\n",
       "      <td>AFG</td>\n",
       "      <td>AGO</td>\n",
       "      <td>33</td>\n",
       "    </tr>\n",
       "    <tr>\n",
       "      <td>2</td>\n",
       "      <td>5</td>\n",
       "      <td>2</td>\n",
       "      <td>122</td>\n",
       "      <td>2009</td>\n",
       "      <td>441</td>\n",
       "      <td>0</td>\n",
       "      <td>AND</td>\n",
       "      <td>AGO</td>\n",
       "      <td>33</td>\n",
       "    </tr>\n",
       "    <tr>\n",
       "      <td>3</td>\n",
       "      <td>5</td>\n",
       "      <td>2</td>\n",
       "      <td>122</td>\n",
       "      <td>2014</td>\n",
       "      <td>2776</td>\n",
       "      <td>0</td>\n",
       "      <td>AND</td>\n",
       "      <td>AGO</td>\n",
       "      <td>33</td>\n",
       "    </tr>\n",
       "    <tr>\n",
       "      <td>4</td>\n",
       "      <td>6</td>\n",
       "      <td>2</td>\n",
       "      <td>122</td>\n",
       "      <td>1964</td>\n",
       "      <td>1517614</td>\n",
       "      <td>0</td>\n",
       "      <td>ANT</td>\n",
       "      <td>AGO</td>\n",
       "      <td>33</td>\n",
       "    </tr>\n",
       "  </tbody>\n",
       "</table>\n",
       "</div>"
      ],
      "text/plain": [
       "   location_id  partner_id  product_id  year  export_value  import_value  \\\n",
       "0            0           2         122  2010      52172104             0   \n",
       "1            1           2         122  2013         82953             0   \n",
       "2            5           2         122  2009           441             0   \n",
       "3            5           2         122  2014          2776             0   \n",
       "4            6           2         122  1964       1517614             0   \n",
       "\n",
       "  location_code partner_code  sitc_product_code  \n",
       "0           ABW          AGO                 33  \n",
       "1           AFG          AGO                 33  \n",
       "2           AND          AGO                 33  \n",
       "3           AND          AGO                 33  \n",
       "4           ANT          AGO                 33  "
      ]
     },
     "execution_count": 9,
     "metadata": {},
     "output_type": "execute_result"
    }
   ],
   "source": [
    "df.head()"
   ]
  },
  {
   "cell_type": "code",
   "execution_count": 10,
   "metadata": {},
   "outputs": [],
   "source": [
    "df.to_parquet(f'{path}/comtrade.parquet')"
   ]
  },
  {
   "cell_type": "markdown",
   "metadata": {},
   "source": [
    "This gives us the raw data. Now, we only need to load and save country and commodity mappings from UN Comtrade"
   ]
  },
  {
   "cell_type": "code",
   "execution_count": 11,
   "metadata": {},
   "outputs": [],
   "source": [
    "mapping = {\n",
    "    'reporter_areas': 'https://comtrade.un.org/data/cache/reporterAreas.json',\n",
    "    'partner_areas': 'https://comtrade.un.org/data/cache/partnerAreas.json',\n",
    "    'commodity_classification': 'https://comtrade.un.org/Data/cache/classificationHS.json'\n",
    "}"
   ]
  },
  {
   "cell_type": "code",
   "execution_count": 12,
   "metadata": {},
   "outputs": [],
   "source": [
    "# Get mapping as json and save to our data path\n",
    "for k, v in mapping.items():\n",
    "    r = requests.get(v)\n",
    "    data = json.loads(r.text)['results'][1:]\n",
    "    with open(f'{path}/{k}.json', 'w') as f:\n",
    "        json.dump(data, f)"
   ]
  },
  {
   "cell_type": "code",
   "execution_count": null,
   "metadata": {},
   "outputs": [],
   "source": []
  },
  {
   "cell_type": "code",
   "execution_count": null,
   "metadata": {},
   "outputs": [],
   "source": []
  }
 ],
 "metadata": {
  "kernelspec": {
   "display_name": "dend",
   "language": "python",
   "name": "dend-capstone"
  },
  "language_info": {
   "codemirror_mode": {
    "name": "ipython",
    "version": 3
   },
   "file_extension": ".py",
   "mimetype": "text/x-python",
   "name": "python",
   "nbconvert_exporter": "python",
   "pygments_lexer": "ipython3",
   "version": "3.7.3"
  }
 },
 "nbformat": 4,
 "nbformat_minor": 4
}
